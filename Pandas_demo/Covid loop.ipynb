{
 "cells": [
  {
   "cell_type": "code",
   "execution_count": 1,
   "metadata": {},
   "outputs": [],
   "source": [
    "import pandas as pd\n",
    "\n",
    "df_confirmed = pd.read_csv('https://raw.githubusercontent.com/CSSEGISandData/COVID-19/master/csse_covid_19_data/csse_covid_19_time_series/time_series_covid19_confirmed_global.csv', index_col='Country/Region')\n",
    "df_deaths = pd.read_csv('https://raw.githubusercontent.com/CSSEGISandData/COVID-19/master/csse_covid_19_data/csse_covid_19_time_series/time_series_covid19_deaths_global.csv', index_col='Country/Region')\n",
    "df_recovered = pd.read_csv('https://raw.githubusercontent.com/CSSEGISandData/COVID-19/master/csse_covid_19_data/csse_covid_19_time_series/time_series_covid19_recovered_global.csv', index_col='Country/Region')"
   ]
  },
  {
   "cell_type": "code",
   "execution_count": 2,
   "metadata": {},
   "outputs": [],
   "source": [
    "df_confirmed.rename(columns={'Province/State':'Province'}, inplace=True)\n",
    "df_deaths.rename(columns={'Province/State':'Province'}, inplace=True)\n",
    "df_recovered.rename(columns={'Province/State':'Province'}, inplace=True)"
   ]
  },
  {
   "cell_type": "code",
   "execution_count": 3,
   "metadata": {},
   "outputs": [],
   "source": [
    "grpC = df_confirmed.groupby(['Country/Region'])\n",
    "grpD = df_deaths.groupby(['Country/Region'])\n",
    "grpR = df_recovered.groupby(['Country/Region'])"
   ]
  },
  {
   "cell_type": "code",
   "execution_count": 16,
   "metadata": {},
   "outputs": [],
   "source": [
    "for (colC, colD, colR) in zip(df_confirmed.columns[3:], df_deaths.columns[3:], df_recovered.columns[3:]):\n",
    "\n",
    "    Confirmed = df_confirmed[['Province', colC]]\n",
    "    Deaths = df_deaths[['Province', colD]]\n",
    "    Recovered = df_recovered[['Province', colR]]\n",
    "\n",
    "    filt = pd.isnull(Confirmed.Province)\n",
    "    filt1 = pd.isnull(Deaths.Province)\n",
    "    filt2 = pd.isnull(Recovered.Province)\n",
    "\n",
    "    Confirmed = Confirmed.loc[filt]\n",
    "    Deaths = Deaths.loc[filt1]\n",
    "    Recovered = Recovered.loc[filt2]\n",
    "    \n",
    "    Confirmed.rename(columns={colC:'Confirmed_Cases'}, inplace=True)\n",
    "    Deaths.rename(columns={colD:'Total_Deaths'}, inplace=True)\n",
    "    Recovered.rename(columns={colR:'Total_Recovered'}, inplace=True)\n",
    "    \n",
    "    new = pd.concat([Confirmed, Deaths, Recovered], axis='columns')\n",
    "\n",
    "    new.drop(['Province'], axis=1, inplace=True)\n",
    "\n",
    "    chinaC = grpC.get_group('China')[colC].sum()\n",
    "    canadaC = grpC.get_group('Canada')[colC].sum()\n",
    "    australiaC = grpC.get_group('Australia')[colC].sum()\n",
    "\n",
    "    chinaD = grpD.get_group('China')[colD].sum()\n",
    "    canadaD = grpD.get_group('Canada')[colD].sum()\n",
    "    australiaD = grpD.get_group('Australia')[colD].sum()\n",
    "\n",
    "    australiaR = grpR.get_group('Australia')[colR].sum()\n",
    "    canadaR = Recovered.loc['Canada', 'Total_Recovered']\n",
    "    chinaR = grpR.get_group('China')[colR].sum()\n",
    "\n",
    "    Arow = pd.Series(data={'Confirmed_Cases': australiaC, 'Total_Deaths': australiaD,\n",
    "                           'Total_Recovered': australiaR}, name='Australia')\n",
    "    new = new.append(Arow, ignore_index=False)\n",
    "\n",
    "    Chrow = pd.Series(data={'Confirmed_Cases': chinaC,\n",
    "                            'Total_Deaths': chinaD, 'Total_Recovered': chinaR}, name='China')\n",
    "    new = new.append(Chrow, ignore_index=False)\n",
    "\n",
    "    new.drop(['Canada'], axis=0, inplace=True)\n",
    "\n",
    "    Carow = pd.Series(data={'Confirmed_Cases': canadaC,\n",
    "                            'Total_Deaths': canadaD, 'Total_Recovered': canadaR}, name='Canada')\n",
    "    new = new.append(Carow, ignore_index=False)\n",
    "    \n",
    "    new['Active_Cases'] = new['Confirmed_Cases'] - new['Total_Deaths'] - new['Total_Recovered']\n",
    "    \n",
    "    new = new.astype(int)\n",
    "    temp = colC.replace('/', '-')\n",
    "    new.to_json(f'COVID-19\\\\JHU_{temp}.json', indent=2)\n",
    "    "
   ]
  },
  {
   "cell_type": "code",
   "execution_count": null,
   "metadata": {},
   "outputs": [],
   "source": []
  }
 ],
 "metadata": {
  "kernelspec": {
   "display_name": "Python 3.8.3 64-bit",
   "language": "python",
   "name": "python38364bit26cf4839014c4cb9a4be931bebea042d"
  },
  "language_info": {
   "codemirror_mode": {
    "name": "ipython",
    "version": 3
   },
   "file_extension": ".py",
   "mimetype": "text/x-python",
   "name": "python",
   "nbconvert_exporter": "python",
   "pygments_lexer": "ipython3",
   "version": "3.8.3"
  }
 },
 "nbformat": 4,
 "nbformat_minor": 4
}
