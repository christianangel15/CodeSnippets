{
 "cells": [
  {
   "cell_type": "code",
   "execution_count": 1,
   "metadata": {},
   "outputs": [],
   "source": [
    "import pandas as pd"
   ]
  },
  {
   "cell_type": "code",
   "execution_count": 2,
   "metadata": {},
   "outputs": [],
   "source": [
    "df_confirmed = pd.read_csv('https://raw.githubusercontent.com/CSSEGISandData/COVID-19/master/csse_covid_19_data/csse_covid_19_time_series/time_series_covid19_confirmed_global.csv', index_col='Country/Region')\n",
    "df_deaths = pd.read_csv('https://raw.githubusercontent.com/CSSEGISandData/COVID-19/master/csse_covid_19_data/csse_covid_19_time_series/time_series_covid19_deaths_global.csv', index_col='Country/Region')\n",
    "df_recovered = pd.read_csv('https://raw.githubusercontent.com/CSSEGISandData/COVID-19/master/csse_covid_19_data/csse_covid_19_time_series/time_series_covid19_recovered_global.csv', index_col='Country/Region')"
   ]
  },
  {
   "cell_type": "code",
   "execution_count": 3,
   "metadata": {},
   "outputs": [],
   "source": [
    "df_confirmed.rename(columns={'Province/State':'Province', df_confirmed.columns[-1]:'Confirmed_Cases'}, inplace=True)\n",
    "df_deaths.rename(columns={'Province/State':'Province', df_deaths.columns[-1]:'Total_Deaths'}, inplace=True)\n",
    "df_recovered.rename(columns={'Province/State':'Province', df_recovered.columns[-1]:'Total_Recovered'}, inplace=True)"
   ]
  },
  {
   "cell_type": "code",
   "execution_count": 4,
   "metadata": {},
   "outputs": [],
   "source": [
    "Confirmed = df_confirmed[['Province', 'Confirmed_Cases']]\n",
    "Deaths = df_deaths[['Province', 'Total_Deaths']]\n",
    "Recovered = df_recovered[['Province', 'Total_Recovered']]"
   ]
  },
  {
   "cell_type": "code",
   "execution_count": 5,
   "metadata": {},
   "outputs": [],
   "source": [
    "filt = pd.isnull(Confirmed.Province)\n",
    "filt1 = pd.isnull(Deaths.Province)\n",
    "filt2 = pd.isnull(Recovered.Province)"
   ]
  },
  {
   "cell_type": "code",
   "execution_count": 6,
   "metadata": {},
   "outputs": [],
   "source": [
    "Confirmed = Confirmed.loc[filt]\n",
    "Deaths = Deaths.loc[filt1]\n",
    "Recovered = Recovered.loc[filt2]"
   ]
  },
  {
   "cell_type": "code",
   "execution_count": 7,
   "metadata": {},
   "outputs": [
    {
     "data": {
      "text/plain": [
       "Province           NaN\n",
       "Total_Recovered      0\n",
       "Name: United Kingdom, dtype: object"
      ]
     },
     "execution_count": 7,
     "metadata": {},
     "output_type": "execute_result"
    }
   ],
   "source": [
    "Recovered.loc['United Kingdom'] # UK has stopped giving recovered cases data."
   ]
  },
  {
   "cell_type": "code",
   "execution_count": 8,
   "metadata": {},
   "outputs": [],
   "source": [
    "new = pd.concat([Confirmed, Deaths, Recovered], axis = 'columns')"
   ]
  },
  {
   "cell_type": "code",
   "execution_count": 9,
   "metadata": {},
   "outputs": [],
   "source": [
    "new.drop(['Province'], axis = 1, inplace = True)"
   ]
  },
  {
   "cell_type": "code",
   "execution_count": 10,
   "metadata": {},
   "outputs": [
    {
     "data": {
      "text/html": [
       "<div>\n",
       "<style scoped>\n",
       "    .dataframe tbody tr th:only-of-type {\n",
       "        vertical-align: middle;\n",
       "    }\n",
       "\n",
       "    .dataframe tbody tr th {\n",
       "        vertical-align: top;\n",
       "    }\n",
       "\n",
       "    .dataframe thead th {\n",
       "        text-align: right;\n",
       "    }\n",
       "</style>\n",
       "<table border=\"1\" class=\"dataframe\">\n",
       "  <thead>\n",
       "    <tr style=\"text-align: right;\">\n",
       "      <th></th>\n",
       "      <th>Confirmed_Cases</th>\n",
       "      <th>Total_Deaths</th>\n",
       "      <th>Total_Recovered</th>\n",
       "    </tr>\n",
       "  </thead>\n",
       "  <tbody>\n",
       "    <tr>\n",
       "      <th>US</th>\n",
       "      <td>2163290.0</td>\n",
       "      <td>117717.0</td>\n",
       "      <td>592191</td>\n",
       "    </tr>\n",
       "    <tr>\n",
       "      <th>Brazil</th>\n",
       "      <td>955377.0</td>\n",
       "      <td>46510.0</td>\n",
       "      <td>521046</td>\n",
       "    </tr>\n",
       "    <tr>\n",
       "      <th>Russia</th>\n",
       "      <td>552549.0</td>\n",
       "      <td>7468.0</td>\n",
       "      <td>303800</td>\n",
       "    </tr>\n",
       "    <tr>\n",
       "      <th>India</th>\n",
       "      <td>366946.0</td>\n",
       "      <td>12237.0</td>\n",
       "      <td>194325</td>\n",
       "    </tr>\n",
       "    <tr>\n",
       "      <th>United Kingdom</th>\n",
       "      <td>299251.0</td>\n",
       "      <td>42153.0</td>\n",
       "      <td>0</td>\n",
       "    </tr>\n",
       "    <tr>\n",
       "      <th>Spain</th>\n",
       "      <td>244683.0</td>\n",
       "      <td>27136.0</td>\n",
       "      <td>150376</td>\n",
       "    </tr>\n",
       "    <tr>\n",
       "      <th>Peru</th>\n",
       "      <td>240908.0</td>\n",
       "      <td>7257.0</td>\n",
       "      <td>128622</td>\n",
       "    </tr>\n",
       "    <tr>\n",
       "      <th>Italy</th>\n",
       "      <td>237828.0</td>\n",
       "      <td>34448.0</td>\n",
       "      <td>179455</td>\n",
       "    </tr>\n",
       "    <tr>\n",
       "      <th>Chile</th>\n",
       "      <td>220628.0</td>\n",
       "      <td>3615.0</td>\n",
       "      <td>181931</td>\n",
       "    </tr>\n",
       "    <tr>\n",
       "      <th>Iran</th>\n",
       "      <td>195051.0</td>\n",
       "      <td>9185.0</td>\n",
       "      <td>154812</td>\n",
       "    </tr>\n",
       "  </tbody>\n",
       "</table>\n",
       "</div>"
      ],
      "text/plain": [
       "                Confirmed_Cases  Total_Deaths  Total_Recovered\n",
       "US                    2163290.0      117717.0           592191\n",
       "Brazil                 955377.0       46510.0           521046\n",
       "Russia                 552549.0        7468.0           303800\n",
       "India                  366946.0       12237.0           194325\n",
       "United Kingdom         299251.0       42153.0                0\n",
       "Spain                  244683.0       27136.0           150376\n",
       "Peru                   240908.0        7257.0           128622\n",
       "Italy                  237828.0       34448.0           179455\n",
       "Chile                  220628.0        3615.0           181931\n",
       "Iran                   195051.0        9185.0           154812"
      ]
     },
     "execution_count": 10,
     "metadata": {},
     "output_type": "execute_result"
    }
   ],
   "source": [
    "new.nlargest(10, 'Confirmed_Cases')"
   ]
  },
  {
   "cell_type": "code",
   "execution_count": 11,
   "metadata": {},
   "outputs": [
    {
     "data": {
      "text/plain": [
       "Confirmed_Cases    2163290.0\n",
       "Total_Deaths        117717.0\n",
       "Total_Recovered     592191.0\n",
       "Name: US, dtype: float64"
      ]
     },
     "execution_count": 11,
     "metadata": {},
     "output_type": "execute_result"
    }
   ],
   "source": [
    "new.loc['US']"
   ]
  },
  {
   "cell_type": "code",
   "execution_count": 12,
   "metadata": {},
   "outputs": [],
   "source": [
    "grpC = df_confirmed.groupby(['Country/Region'])\n",
    "chinaC = grpC.get_group('China')['Confirmed_Cases'].sum()\n",
    "canadaC = grpC.get_group('Canada')['Confirmed_Cases'].sum()\n",
    "australiaC = grpC.get_group('Australia')['Confirmed_Cases'].sum()"
   ]
  },
  {
   "cell_type": "code",
   "execution_count": 13,
   "metadata": {},
   "outputs": [],
   "source": [
    "grpD = df_deaths.groupby(['Country/Region'])\n",
    "chinaD = grpD.get_group('China')['Total_Deaths'].sum()\n",
    "canadaD = grpD.get_group('Canada')['Total_Deaths'].sum()\n",
    "australiaD = grpD.get_group('Australia')['Total_Deaths'].sum()"
   ]
  },
  {
   "cell_type": "code",
   "execution_count": 14,
   "metadata": {},
   "outputs": [],
   "source": [
    "grpR = df_recovered.groupby(['Country/Region'])\n",
    "australiaR = grpR.get_group('Australia')['Total_Recovered'].sum()\n",
    "canadaR = Recovered.loc['Canada', 'Total_Recovered']\n",
    "chinaR = grpR.get_group('China')['Total_Recovered'].sum()"
   ]
  },
  {
   "cell_type": "code",
   "execution_count": 15,
   "metadata": {},
   "outputs": [],
   "source": [
    "Arow = pd.Series(data={'Confirmed_Cases':australiaC, 'Total_Deaths':australiaD, 'Total_Recovered':australiaR}, name= 'Australia')\n",
    "new = new.append(Arow, ignore_index=False)"
   ]
  },
  {
   "cell_type": "code",
   "execution_count": 16,
   "metadata": {},
   "outputs": [],
   "source": [
    "Chrow = pd.Series(data={'Confirmed_Cases':chinaC, 'Total_Deaths':chinaD, 'Total_Recovered':chinaR}, name= 'China')\n",
    "new = new.append(Chrow, ignore_index=False)"
   ]
  },
  {
   "cell_type": "code",
   "execution_count": 17,
   "metadata": {},
   "outputs": [],
   "source": [
    "new.drop(['Canada'], axis=0, inplace=True)"
   ]
  },
  {
   "cell_type": "code",
   "execution_count": 18,
   "metadata": {},
   "outputs": [],
   "source": [
    "Carow = pd.Series(data={'Confirmed_Cases':canadaC, 'Total_Deaths':canadaD, 'Total_Recovered':canadaR}, name= 'Canada')\n",
    "new = new.append(Carow, ignore_index=False)"
   ]
  },
  {
   "cell_type": "code",
   "execution_count": 19,
   "metadata": {},
   "outputs": [
    {
     "data": {
      "text/html": [
       "<div>\n",
       "<style scoped>\n",
       "    .dataframe tbody tr th:only-of-type {\n",
       "        vertical-align: middle;\n",
       "    }\n",
       "\n",
       "    .dataframe tbody tr th {\n",
       "        vertical-align: top;\n",
       "    }\n",
       "\n",
       "    .dataframe thead th {\n",
       "        text-align: right;\n",
       "    }\n",
       "</style>\n",
       "<table border=\"1\" class=\"dataframe\">\n",
       "  <thead>\n",
       "    <tr style=\"text-align: right;\">\n",
       "      <th></th>\n",
       "      <th>Confirmed_Cases</th>\n",
       "      <th>Total_Deaths</th>\n",
       "      <th>Total_Recovered</th>\n",
       "    </tr>\n",
       "  </thead>\n",
       "  <tbody>\n",
       "    <tr>\n",
       "      <th>Tajikistan</th>\n",
       "      <td>5221.0</td>\n",
       "      <td>51.0</td>\n",
       "      <td>3700</td>\n",
       "    </tr>\n",
       "    <tr>\n",
       "      <th>Lesotho</th>\n",
       "      <td>4.0</td>\n",
       "      <td>0.0</td>\n",
       "      <td>2</td>\n",
       "    </tr>\n",
       "    <tr>\n",
       "      <th>Australia</th>\n",
       "      <td>7391.0</td>\n",
       "      <td>102.0</td>\n",
       "      <td>6877</td>\n",
       "    </tr>\n",
       "    <tr>\n",
       "      <th>China</th>\n",
       "      <td>84458.0</td>\n",
       "      <td>4638.0</td>\n",
       "      <td>79510</td>\n",
       "    </tr>\n",
       "    <tr>\n",
       "      <th>Canada</th>\n",
       "      <td>101491.0</td>\n",
       "      <td>8312.0</td>\n",
       "      <td>63280</td>\n",
       "    </tr>\n",
       "  </tbody>\n",
       "</table>\n",
       "</div>"
      ],
      "text/plain": [
       "            Confirmed_Cases  Total_Deaths  Total_Recovered\n",
       "Tajikistan           5221.0          51.0             3700\n",
       "Lesotho                 4.0           0.0                2\n",
       "Australia            7391.0         102.0             6877\n",
       "China               84458.0        4638.0            79510\n",
       "Canada             101491.0        8312.0            63280"
      ]
     },
     "execution_count": 19,
     "metadata": {},
     "output_type": "execute_result"
    }
   ],
   "source": [
    "new.tail()"
   ]
  },
  {
   "cell_type": "code",
   "execution_count": 20,
   "metadata": {},
   "outputs": [],
   "source": [
    "new['Active_Cases'] = new['Confirmed_Cases'] - new['Total_Deaths'] - new['Total_Recovered']"
   ]
  },
  {
   "cell_type": "code",
   "execution_count": 21,
   "metadata": {},
   "outputs": [
    {
     "data": {
      "text/html": [
       "<div>\n",
       "<style scoped>\n",
       "    .dataframe tbody tr th:only-of-type {\n",
       "        vertical-align: middle;\n",
       "    }\n",
       "\n",
       "    .dataframe tbody tr th {\n",
       "        vertical-align: top;\n",
       "    }\n",
       "\n",
       "    .dataframe thead th {\n",
       "        text-align: right;\n",
       "    }\n",
       "</style>\n",
       "<table border=\"1\" class=\"dataframe\">\n",
       "  <thead>\n",
       "    <tr style=\"text-align: right;\">\n",
       "      <th></th>\n",
       "      <th>Confirmed_Cases</th>\n",
       "      <th>Total_Deaths</th>\n",
       "      <th>Total_Recovered</th>\n",
       "      <th>Active_Cases</th>\n",
       "    </tr>\n",
       "  </thead>\n",
       "  <tbody>\n",
       "    <tr>\n",
       "      <th>US</th>\n",
       "      <td>2163290</td>\n",
       "      <td>117717</td>\n",
       "      <td>592191</td>\n",
       "      <td>1453382</td>\n",
       "    </tr>\n",
       "    <tr>\n",
       "      <th>Brazil</th>\n",
       "      <td>955377</td>\n",
       "      <td>46510</td>\n",
       "      <td>521046</td>\n",
       "      <td>387821</td>\n",
       "    </tr>\n",
       "    <tr>\n",
       "      <th>United Kingdom</th>\n",
       "      <td>299251</td>\n",
       "      <td>42153</td>\n",
       "      <td>0</td>\n",
       "      <td>257098</td>\n",
       "    </tr>\n",
       "    <tr>\n",
       "      <th>Russia</th>\n",
       "      <td>552549</td>\n",
       "      <td>7468</td>\n",
       "      <td>303800</td>\n",
       "      <td>241281</td>\n",
       "    </tr>\n",
       "    <tr>\n",
       "      <th>India</th>\n",
       "      <td>366946</td>\n",
       "      <td>12237</td>\n",
       "      <td>194325</td>\n",
       "      <td>160384</td>\n",
       "    </tr>\n",
       "    <tr>\n",
       "      <th>Peru</th>\n",
       "      <td>240908</td>\n",
       "      <td>7257</td>\n",
       "      <td>128622</td>\n",
       "      <td>105029</td>\n",
       "    </tr>\n",
       "    <tr>\n",
       "      <th>Pakistan</th>\n",
       "      <td>160118</td>\n",
       "      <td>3093</td>\n",
       "      <td>59215</td>\n",
       "      <td>97810</td>\n",
       "    </tr>\n",
       "    <tr>\n",
       "      <th>France</th>\n",
       "      <td>189906</td>\n",
       "      <td>29512</td>\n",
       "      <td>70223</td>\n",
       "      <td>90171</td>\n",
       "    </tr>\n",
       "    <tr>\n",
       "      <th>Spain</th>\n",
       "      <td>244683</td>\n",
       "      <td>27136</td>\n",
       "      <td>150376</td>\n",
       "      <td>67171</td>\n",
       "    </tr>\n",
       "    <tr>\n",
       "      <th>Bangladesh</th>\n",
       "      <td>98489</td>\n",
       "      <td>1305</td>\n",
       "      <td>38189</td>\n",
       "      <td>58995</td>\n",
       "    </tr>\n",
       "    <tr>\n",
       "      <th>Sweden</th>\n",
       "      <td>54562</td>\n",
       "      <td>5041</td>\n",
       "      <td>0</td>\n",
       "      <td>49521</td>\n",
       "    </tr>\n",
       "    <tr>\n",
       "      <th>Saudi Arabia</th>\n",
       "      <td>141234</td>\n",
       "      <td>1091</td>\n",
       "      <td>91662</td>\n",
       "      <td>48481</td>\n",
       "    </tr>\n",
       "    <tr>\n",
       "      <th>Netherlands</th>\n",
       "      <td>49204</td>\n",
       "      <td>6074</td>\n",
       "      <td>0</td>\n",
       "      <td>43130</td>\n",
       "    </tr>\n",
       "    <tr>\n",
       "      <th>Chile</th>\n",
       "      <td>220628</td>\n",
       "      <td>3615</td>\n",
       "      <td>181931</td>\n",
       "      <td>35082</td>\n",
       "    </tr>\n",
       "    <tr>\n",
       "      <th>South Africa</th>\n",
       "      <td>80412</td>\n",
       "      <td>1674</td>\n",
       "      <td>44331</td>\n",
       "      <td>34407</td>\n",
       "    </tr>\n",
       "    <tr>\n",
       "      <th>Egypt</th>\n",
       "      <td>49219</td>\n",
       "      <td>1850</td>\n",
       "      <td>13141</td>\n",
       "      <td>34228</td>\n",
       "    </tr>\n",
       "    <tr>\n",
       "      <th>Belgium</th>\n",
       "      <td>60244</td>\n",
       "      <td>9675</td>\n",
       "      <td>16684</td>\n",
       "      <td>33885</td>\n",
       "    </tr>\n",
       "    <tr>\n",
       "      <th>Colombia</th>\n",
       "      <td>55083</td>\n",
       "      <td>1887</td>\n",
       "      <td>20400</td>\n",
       "      <td>32796</td>\n",
       "    </tr>\n",
       "    <tr>\n",
       "      <th>Iran</th>\n",
       "      <td>195051</td>\n",
       "      <td>9185</td>\n",
       "      <td>154812</td>\n",
       "      <td>31054</td>\n",
       "    </tr>\n",
       "    <tr>\n",
       "      <th>Canada</th>\n",
       "      <td>101491</td>\n",
       "      <td>8312</td>\n",
       "      <td>63280</td>\n",
       "      <td>29899</td>\n",
       "    </tr>\n",
       "  </tbody>\n",
       "</table>\n",
       "</div>"
      ],
      "text/plain": [
       "                Confirmed_Cases  Total_Deaths  Total_Recovered  Active_Cases\n",
       "US                      2163290        117717           592191       1453382\n",
       "Brazil                   955377         46510           521046        387821\n",
       "United Kingdom           299251         42153                0        257098\n",
       "Russia                   552549          7468           303800        241281\n",
       "India                    366946         12237           194325        160384\n",
       "Peru                     240908          7257           128622        105029\n",
       "Pakistan                 160118          3093            59215         97810\n",
       "France                   189906         29512            70223         90171\n",
       "Spain                    244683         27136           150376         67171\n",
       "Bangladesh                98489          1305            38189         58995\n",
       "Sweden                    54562          5041                0         49521\n",
       "Saudi Arabia             141234          1091            91662         48481\n",
       "Netherlands               49204          6074                0         43130\n",
       "Chile                    220628          3615           181931         35082\n",
       "South Africa              80412          1674            44331         34407\n",
       "Egypt                     49219          1850            13141         34228\n",
       "Belgium                   60244          9675            16684         33885\n",
       "Colombia                  55083          1887            20400         32796\n",
       "Iran                     195051          9185           154812         31054\n",
       "Canada                   101491          8312            63280         29899"
      ]
     },
     "execution_count": 21,
     "metadata": {},
     "output_type": "execute_result"
    }
   ],
   "source": [
    "new = new.astype(int)\n",
    "new.nlargest(20, 'Active_Cases')"
   ]
  },
  {
   "cell_type": "code",
   "execution_count": 22,
   "metadata": {},
   "outputs": [],
   "source": [
    "new.to_json('COVID-19\\\\JHU_6-18-20.json', indent=2)"
   ]
  },
  {
   "cell_type": "code",
   "execution_count": null,
   "metadata": {},
   "outputs": [],
   "source": []
  }
 ],
 "metadata": {
  "kernelspec": {
   "display_name": "Python 3.8.3 64-bit",
   "language": "python",
   "name": "python38364bit26cf4839014c4cb9a4be931bebea042d"
  },
  "language_info": {
   "codemirror_mode": {
    "name": "ipython",
    "version": 3
   },
   "file_extension": ".py",
   "mimetype": "text/x-python",
   "name": "python",
   "nbconvert_exporter": "python",
   "pygments_lexer": "ipython3",
   "version": "3.8.3"
  }
 },
 "nbformat": 4,
 "nbformat_minor": 4
}
