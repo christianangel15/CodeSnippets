{
 "cells": [
  {
   "cell_type": "code",
   "execution_count": 415,
   "metadata": {},
   "outputs": [],
   "source": [
    "import pandas as pd"
   ]
  },
  {
   "cell_type": "code",
   "execution_count": 416,
   "metadata": {},
   "outputs": [],
   "source": [
    "df_confirmed = pd.read_csv('https://raw.githubusercontent.com/CSSEGISandData/COVID-19/master/csse_covid_19_data/csse_covid_19_time_series/time_series_covid19_confirmed_global.csv', index_col='Country/Region')\n",
    "df_deaths = pd.read_csv('https://raw.githubusercontent.com/CSSEGISandData/COVID-19/master/csse_covid_19_data/csse_covid_19_time_series/time_series_covid19_deaths_global.csv', index_col='Country/Region')\n",
    "df_recovered = pd.read_csv('https://raw.githubusercontent.com/CSSEGISandData/COVID-19/master/csse_covid_19_data/csse_covid_19_time_series/time_series_covid19_recovered_global.csv', index_col='Country/Region')"
   ]
  },
  {
   "cell_type": "code",
   "execution_count": 417,
   "metadata": {},
   "outputs": [],
   "source": [
    "df_confirmed.rename(columns={'Province/State':'Province', df_confirmed.columns[-1]:'Confirmed_Cases'}, inplace=True)\n",
    "df_deaths.rename(columns={'Province/State':'Province', df_deaths.columns[-1]:'Total_Deaths'}, inplace=True)\n",
    "df_recovered.rename(columns={'Province/State':'Province', df_recovered.columns[-1]:'Total_Recovered'}, inplace=True)"
   ]
  },
  {
   "cell_type": "code",
   "execution_count": 418,
   "metadata": {},
   "outputs": [],
   "source": [
    "Confirmed = df_confirmed[['Province', 'Confirmed_Cases']]\n",
    "Deaths = df_deaths[['Province', 'Total_Deaths']]\n",
    "Recovered = df_recovered[['Province', 'Total_Recovered']]"
   ]
  },
  {
   "cell_type": "code",
   "execution_count": 419,
   "metadata": {},
   "outputs": [],
   "source": [
    "filt = pd.isnull(Confirmed.Province)\n",
    "filt1 = pd.isnull(Deaths.Province)\n",
    "filt2 = pd.isnull(Recovered.Province)"
   ]
  },
  {
   "cell_type": "code",
   "execution_count": 420,
   "metadata": {},
   "outputs": [],
   "source": [
    "Confirmed = Confirmed.loc[filt]\n",
    "Deaths = Deaths.loc[filt1]\n",
    "Recovered = Recovered.loc[filt2]"
   ]
  },
  {
   "cell_type": "code",
   "execution_count": 421,
   "metadata": {},
   "outputs": [
    {
     "data": {
      "text/plain": [
       "Province           NaN\n",
       "Total_Recovered      0\n",
       "Name: United Kingdom, dtype: object"
      ]
     },
     "execution_count": 421,
     "metadata": {},
     "output_type": "execute_result"
    }
   ],
   "source": [
    "Recovered.loc['United Kingdom'] # UK has stopped giving recovered cases data."
   ]
  },
  {
   "cell_type": "code",
   "execution_count": 422,
   "metadata": {},
   "outputs": [],
   "source": [
    "new = pd.concat([Confirmed, Deaths, Recovered], axis = 'columns')"
   ]
  },
  {
   "cell_type": "code",
   "execution_count": 423,
   "metadata": {},
   "outputs": [],
   "source": [
    "new.drop(['Province'], axis = 1, inplace = True)"
   ]
  },
  {
   "cell_type": "code",
   "execution_count": 424,
   "metadata": {},
   "outputs": [
    {
     "data": {
      "text/html": [
       "<div>\n",
       "<style scoped>\n",
       "    .dataframe tbody tr th:only-of-type {\n",
       "        vertical-align: middle;\n",
       "    }\n",
       "\n",
       "    .dataframe tbody tr th {\n",
       "        vertical-align: top;\n",
       "    }\n",
       "\n",
       "    .dataframe thead th {\n",
       "        text-align: right;\n",
       "    }\n",
       "</style>\n",
       "<table border=\"1\" class=\"dataframe\">\n",
       "  <thead>\n",
       "    <tr style=\"text-align: right;\">\n",
       "      <th></th>\n",
       "      <th>Confirmed_Cases</th>\n",
       "      <th>Total_Deaths</th>\n",
       "      <th>Total_Recovered</th>\n",
       "    </tr>\n",
       "  </thead>\n",
       "  <tbody>\n",
       "    <tr>\n",
       "      <th>US</th>\n",
       "      <td>2114026.0</td>\n",
       "      <td>116127.0</td>\n",
       "      <td>576334</td>\n",
       "    </tr>\n",
       "    <tr>\n",
       "      <th>Brazil</th>\n",
       "      <td>888271.0</td>\n",
       "      <td>43959.0</td>\n",
       "      <td>477709</td>\n",
       "    </tr>\n",
       "    <tr>\n",
       "      <th>Russia</th>\n",
       "      <td>536484.0</td>\n",
       "      <td>7081.0</td>\n",
       "      <td>284021</td>\n",
       "    </tr>\n",
       "    <tr>\n",
       "      <th>India</th>\n",
       "      <td>343091.0</td>\n",
       "      <td>9900.0</td>\n",
       "      <td>180013</td>\n",
       "    </tr>\n",
       "    <tr>\n",
       "      <th>United Kingdom</th>\n",
       "      <td>296857.0</td>\n",
       "      <td>41736.0</td>\n",
       "      <td>0</td>\n",
       "    </tr>\n",
       "    <tr>\n",
       "      <th>Spain</th>\n",
       "      <td>244109.0</td>\n",
       "      <td>27136.0</td>\n",
       "      <td>150376</td>\n",
       "    </tr>\n",
       "    <tr>\n",
       "      <th>Italy</th>\n",
       "      <td>237290.0</td>\n",
       "      <td>34371.0</td>\n",
       "      <td>177010</td>\n",
       "    </tr>\n",
       "    <tr>\n",
       "      <th>Peru</th>\n",
       "      <td>232992.0</td>\n",
       "      <td>6860.0</td>\n",
       "      <td>119409</td>\n",
       "    </tr>\n",
       "    <tr>\n",
       "      <th>Iran</th>\n",
       "      <td>189876.0</td>\n",
       "      <td>8950.0</td>\n",
       "      <td>150590</td>\n",
       "    </tr>\n",
       "    <tr>\n",
       "      <th>France</th>\n",
       "      <td>189670.0</td>\n",
       "      <td>29375.0</td>\n",
       "      <td>69719</td>\n",
       "    </tr>\n",
       "  </tbody>\n",
       "</table>\n",
       "</div>"
      ],
      "text/plain": [
       "                Confirmed_Cases  Total_Deaths  Total_Recovered\n",
       "US                    2114026.0      116127.0           576334\n",
       "Brazil                 888271.0       43959.0           477709\n",
       "Russia                 536484.0        7081.0           284021\n",
       "India                  343091.0        9900.0           180013\n",
       "United Kingdom         296857.0       41736.0                0\n",
       "Spain                  244109.0       27136.0           150376\n",
       "Italy                  237290.0       34371.0           177010\n",
       "Peru                   232992.0        6860.0           119409\n",
       "Iran                   189876.0        8950.0           150590\n",
       "France                 189670.0       29375.0            69719"
      ]
     },
     "execution_count": 424,
     "metadata": {},
     "output_type": "execute_result"
    }
   ],
   "source": [
    "new.nlargest(10, 'Confirmed_Cases')"
   ]
  },
  {
   "cell_type": "code",
   "execution_count": 425,
   "metadata": {},
   "outputs": [
    {
     "data": {
      "text/plain": [
       "Confirmed_Cases    2114026.0\n",
       "Total_Deaths        116127.0\n",
       "Total_Recovered     576334.0\n",
       "Name: US, dtype: float64"
      ]
     },
     "execution_count": 425,
     "metadata": {},
     "output_type": "execute_result"
    }
   ],
   "source": [
    "new.loc['US']"
   ]
  },
  {
   "cell_type": "code",
   "execution_count": 426,
   "metadata": {},
   "outputs": [],
   "source": [
    "grpC = df_confirmed.groupby(['Country/Region'])\n",
    "chinaC = grpC.get_group('China')['Confirmed_Cases'].sum()\n",
    "canadaC = grpC.get_group('Canada')['Confirmed_Cases'].sum()\n",
    "australiaC = grpC.get_group('Australia')['Confirmed_Cases'].sum()"
   ]
  },
  {
   "cell_type": "code",
   "execution_count": 427,
   "metadata": {},
   "outputs": [],
   "source": [
    "grpD = df_deaths.groupby(['Country/Region'])\n",
    "chinaD = grpD.get_group('China')['Total_Deaths'].sum()\n",
    "canadaD = grpD.get_group('Canada')['Total_Deaths'].sum()\n",
    "australiaD = grpD.get_group('Australia')['Total_Deaths'].sum()"
   ]
  },
  {
   "cell_type": "code",
   "execution_count": 428,
   "metadata": {},
   "outputs": [],
   "source": [
    "grpR = df_recovered.groupby(['Country/Region'])\n",
    "australiaR = grpR.get_group('Australia')['Total_Recovered'].sum()\n",
    "canadaR = Recovered.loc['Canada', 'Total_Recovered']\n",
    "chinaR = grpR.get_group('China')['Total_Recovered'].sum()"
   ]
  },
  {
   "cell_type": "code",
   "execution_count": 429,
   "metadata": {},
   "outputs": [],
   "source": [
    "Arow = pd.Series(data={'Confirmed_Cases':australiaC, 'Total_Deaths':australiaD, 'Total_Recovered':australiaR}, name= 'Australia')\n",
    "new = new.append(Arow, ignore_index=False)"
   ]
  },
  {
   "cell_type": "code",
   "execution_count": 430,
   "metadata": {},
   "outputs": [],
   "source": [
    "Chrow = pd.Series(data={'Confirmed_Cases':chinaC, 'Total_Deaths':chinaD, 'Total_Recovered':chinaR}, name= 'China')\n",
    "new = new.append(Chrow, ignore_index=False)"
   ]
  },
  {
   "cell_type": "code",
   "execution_count": 431,
   "metadata": {},
   "outputs": [],
   "source": [
    "new.drop(['Canada'], axis=0, inplace=True)"
   ]
  },
  {
   "cell_type": "code",
   "execution_count": 432,
   "metadata": {},
   "outputs": [],
   "source": [
    "Carow = pd.Series(data={'Confirmed_Cases':canadaC, 'Total_Deaths':canadaD, 'Total_Recovered':canadaR}, name= 'Canada')\n",
    "new = new.append(Carow, ignore_index=False)"
   ]
  },
  {
   "cell_type": "code",
   "execution_count": 433,
   "metadata": {},
   "outputs": [
    {
     "data": {
      "text/html": [
       "<div>\n",
       "<style scoped>\n",
       "    .dataframe tbody tr th:only-of-type {\n",
       "        vertical-align: middle;\n",
       "    }\n",
       "\n",
       "    .dataframe tbody tr th {\n",
       "        vertical-align: top;\n",
       "    }\n",
       "\n",
       "    .dataframe thead th {\n",
       "        text-align: right;\n",
       "    }\n",
       "</style>\n",
       "<table border=\"1\" class=\"dataframe\">\n",
       "  <thead>\n",
       "    <tr style=\"text-align: right;\">\n",
       "      <th></th>\n",
       "      <th>Confirmed_Cases</th>\n",
       "      <th>Total_Deaths</th>\n",
       "      <th>Total_Recovered</th>\n",
       "    </tr>\n",
       "  </thead>\n",
       "  <tbody>\n",
       "    <tr>\n",
       "      <th>Tajikistan</th>\n",
       "      <td>5097.0</td>\n",
       "      <td>50.0</td>\n",
       "      <td>3503</td>\n",
       "    </tr>\n",
       "    <tr>\n",
       "      <th>Lesotho</th>\n",
       "      <td>4.0</td>\n",
       "      <td>0.0</td>\n",
       "      <td>2</td>\n",
       "    </tr>\n",
       "    <tr>\n",
       "      <th>Australia</th>\n",
       "      <td>7347.0</td>\n",
       "      <td>102.0</td>\n",
       "      <td>6856</td>\n",
       "    </tr>\n",
       "    <tr>\n",
       "      <th>China</th>\n",
       "      <td>84378.0</td>\n",
       "      <td>4638.0</td>\n",
       "      <td>79489</td>\n",
       "    </tr>\n",
       "    <tr>\n",
       "      <th>Canada</th>\n",
       "      <td>100763.0</td>\n",
       "      <td>8228.0</td>\n",
       "      <td>61466</td>\n",
       "    </tr>\n",
       "  </tbody>\n",
       "</table>\n",
       "</div>"
      ],
      "text/plain": [
       "            Confirmed_Cases  Total_Deaths  Total_Recovered\n",
       "Tajikistan           5097.0          50.0             3503\n",
       "Lesotho                 4.0           0.0                2\n",
       "Australia            7347.0         102.0             6856\n",
       "China               84378.0        4638.0            79489\n",
       "Canada             100763.0        8228.0            61466"
      ]
     },
     "execution_count": 433,
     "metadata": {},
     "output_type": "execute_result"
    }
   ],
   "source": [
    "new.tail()"
   ]
  },
  {
   "cell_type": "code",
   "execution_count": 434,
   "metadata": {},
   "outputs": [],
   "source": [
    "new['Active_Cases'] = new['Confirmed_Cases'] - new['Total_Deaths'] - new['Total_Recovered']"
   ]
  },
  {
   "cell_type": "code",
   "execution_count": 435,
   "metadata": {},
   "outputs": [
    {
     "data": {
      "text/html": [
       "<div>\n",
       "<style scoped>\n",
       "    .dataframe tbody tr th:only-of-type {\n",
       "        vertical-align: middle;\n",
       "    }\n",
       "\n",
       "    .dataframe tbody tr th {\n",
       "        vertical-align: top;\n",
       "    }\n",
       "\n",
       "    .dataframe thead th {\n",
       "        text-align: right;\n",
       "    }\n",
       "</style>\n",
       "<table border=\"1\" class=\"dataframe\">\n",
       "  <thead>\n",
       "    <tr style=\"text-align: right;\">\n",
       "      <th></th>\n",
       "      <th>Confirmed_Cases</th>\n",
       "      <th>Total_Deaths</th>\n",
       "      <th>Total_Recovered</th>\n",
       "      <th>Active_Cases</th>\n",
       "    </tr>\n",
       "  </thead>\n",
       "  <tbody>\n",
       "    <tr>\n",
       "      <th>US</th>\n",
       "      <td>2114026</td>\n",
       "      <td>116127</td>\n",
       "      <td>576334</td>\n",
       "      <td>1421565</td>\n",
       "    </tr>\n",
       "    <tr>\n",
       "      <th>Brazil</th>\n",
       "      <td>888271</td>\n",
       "      <td>43959</td>\n",
       "      <td>477709</td>\n",
       "      <td>366603</td>\n",
       "    </tr>\n",
       "    <tr>\n",
       "      <th>United Kingdom</th>\n",
       "      <td>296857</td>\n",
       "      <td>41736</td>\n",
       "      <td>0</td>\n",
       "      <td>255121</td>\n",
       "    </tr>\n",
       "    <tr>\n",
       "      <th>Russia</th>\n",
       "      <td>536484</td>\n",
       "      <td>7081</td>\n",
       "      <td>284021</td>\n",
       "      <td>245382</td>\n",
       "    </tr>\n",
       "    <tr>\n",
       "      <th>India</th>\n",
       "      <td>343091</td>\n",
       "      <td>9900</td>\n",
       "      <td>180013</td>\n",
       "      <td>153178</td>\n",
       "    </tr>\n",
       "    <tr>\n",
       "      <th>Peru</th>\n",
       "      <td>232992</td>\n",
       "      <td>6860</td>\n",
       "      <td>119409</td>\n",
       "      <td>106723</td>\n",
       "    </tr>\n",
       "    <tr>\n",
       "      <th>France</th>\n",
       "      <td>189670</td>\n",
       "      <td>29375</td>\n",
       "      <td>69719</td>\n",
       "      <td>90576</td>\n",
       "    </tr>\n",
       "    <tr>\n",
       "      <th>Pakistan</th>\n",
       "      <td>148921</td>\n",
       "      <td>2839</td>\n",
       "      <td>56390</td>\n",
       "      <td>89692</td>\n",
       "    </tr>\n",
       "    <tr>\n",
       "      <th>Bangladesh</th>\n",
       "      <td>90619</td>\n",
       "      <td>1209</td>\n",
       "      <td>18731</td>\n",
       "      <td>70679</td>\n",
       "    </tr>\n",
       "    <tr>\n",
       "      <th>Spain</th>\n",
       "      <td>244109</td>\n",
       "      <td>27136</td>\n",
       "      <td>150376</td>\n",
       "      <td>66597</td>\n",
       "    </tr>\n",
       "    <tr>\n",
       "      <th>Sweden</th>\n",
       "      <td>52383</td>\n",
       "      <td>4891</td>\n",
       "      <td>0</td>\n",
       "      <td>47492</td>\n",
       "    </tr>\n",
       "    <tr>\n",
       "      <th>Saudi Arabia</th>\n",
       "      <td>132048</td>\n",
       "      <td>1011</td>\n",
       "      <td>87890</td>\n",
       "      <td>43147</td>\n",
       "    </tr>\n",
       "    <tr>\n",
       "      <th>Netherlands</th>\n",
       "      <td>48948</td>\n",
       "      <td>6065</td>\n",
       "      <td>0</td>\n",
       "      <td>42883</td>\n",
       "    </tr>\n",
       "    <tr>\n",
       "      <th>Belgium</th>\n",
       "      <td>60100</td>\n",
       "      <td>9661</td>\n",
       "      <td>16610</td>\n",
       "      <td>33829</td>\n",
       "    </tr>\n",
       "    <tr>\n",
       "      <th>Egypt</th>\n",
       "      <td>46289</td>\n",
       "      <td>1672</td>\n",
       "      <td>12329</td>\n",
       "      <td>32288</td>\n",
       "    </tr>\n",
       "    <tr>\n",
       "      <th>South Africa</th>\n",
       "      <td>73533</td>\n",
       "      <td>1568</td>\n",
       "      <td>39867</td>\n",
       "      <td>32098</td>\n",
       "    </tr>\n",
       "    <tr>\n",
       "      <th>Colombia</th>\n",
       "      <td>53168</td>\n",
       "      <td>1808</td>\n",
       "      <td>19985</td>\n",
       "      <td>31375</td>\n",
       "    </tr>\n",
       "    <tr>\n",
       "      <th>Canada</th>\n",
       "      <td>100763</td>\n",
       "      <td>8228</td>\n",
       "      <td>61466</td>\n",
       "      <td>31069</td>\n",
       "    </tr>\n",
       "    <tr>\n",
       "      <th>Iran</th>\n",
       "      <td>189876</td>\n",
       "      <td>8950</td>\n",
       "      <td>150590</td>\n",
       "      <td>30336</td>\n",
       "    </tr>\n",
       "    <tr>\n",
       "      <th>Chile</th>\n",
       "      <td>179436</td>\n",
       "      <td>3362</td>\n",
       "      <td>148792</td>\n",
       "      <td>27282</td>\n",
       "    </tr>\n",
       "  </tbody>\n",
       "</table>\n",
       "</div>"
      ],
      "text/plain": [
       "                Confirmed_Cases  Total_Deaths  Total_Recovered  Active_Cases\n",
       "US                      2114026        116127           576334       1421565\n",
       "Brazil                   888271         43959           477709        366603\n",
       "United Kingdom           296857         41736                0        255121\n",
       "Russia                   536484          7081           284021        245382\n",
       "India                    343091          9900           180013        153178\n",
       "Peru                     232992          6860           119409        106723\n",
       "France                   189670         29375            69719         90576\n",
       "Pakistan                 148921          2839            56390         89692\n",
       "Bangladesh                90619          1209            18731         70679\n",
       "Spain                    244109         27136           150376         66597\n",
       "Sweden                    52383          4891                0         47492\n",
       "Saudi Arabia             132048          1011            87890         43147\n",
       "Netherlands               48948          6065                0         42883\n",
       "Belgium                   60100          9661            16610         33829\n",
       "Egypt                     46289          1672            12329         32288\n",
       "South Africa              73533          1568            39867         32098\n",
       "Colombia                  53168          1808            19985         31375\n",
       "Canada                   100763          8228            61466         31069\n",
       "Iran                     189876          8950           150590         30336\n",
       "Chile                    179436          3362           148792         27282"
      ]
     },
     "execution_count": 435,
     "metadata": {},
     "output_type": "execute_result"
    }
   ],
   "source": [
    "new = new.astype(int)\n",
    "new.nlargest(20, 'Active_Cases')"
   ]
  },
  {
   "cell_type": "code",
   "execution_count": 436,
   "metadata": {},
   "outputs": [],
   "source": [
    "new.to_json('Covid19JHU.json', indent=2)"
   ]
  },
  {
   "cell_type": "code",
   "execution_count": null,
   "metadata": {},
   "outputs": [],
   "source": []
  }
 ],
 "metadata": {
  "kernelspec": {
   "display_name": "Python 3",
   "language": "python",
   "name": "python3"
  },
  "language_info": {
   "codemirror_mode": {
    "name": "ipython",
    "version": 3
   },
   "file_extension": ".py",
   "mimetype": "text/x-python",
   "name": "python",
   "nbconvert_exporter": "python",
   "pygments_lexer": "ipython3",
   "version": "3.8.3"
  }
 },
 "nbformat": 4,
 "nbformat_minor": 4
}
