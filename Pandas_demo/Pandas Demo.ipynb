{
 "cells": [
  {
   "cell_type": "code",
   "execution_count": 28,
   "metadata": {},
   "outputs": [],
   "source": [
    "import pandas as pd"
   ]
  },
  {
   "cell_type": "code",
   "execution_count": 29,
   "metadata": {},
   "outputs": [],
   "source": [
    "df = pd.read_csv('data/survey_results_public.csv', index_col='Respondent')\n",
    "schema_df = pd.read_csv('data/survey_results_schema.csv', index_col='Column')"
   ]
  },
  {
   "cell_type": "code",
   "execution_count": 30,
   "metadata": {
    "scrolled": true
   },
   "outputs": [],
   "source": [
    "pd.set_option('display.max_columns',85)\n",
    "pd.set_option('display.max_rows',85)"
   ]
  },
  {
   "cell_type": "code",
   "execution_count": 31,
   "metadata": {},
   "outputs": [
    {
     "data": {
      "text/plain": [
       "(88883, 84)"
      ]
     },
     "execution_count": 31,
     "metadata": {},
     "output_type": "execute_result"
    }
   ],
   "source": [
    "df.shape"
   ]
  },
  {
   "cell_type": "code",
   "execution_count": 32,
   "metadata": {},
   "outputs": [
    {
     "name": "stdout",
     "output_type": "stream",
     "text": [
      "<class 'pandas.core.frame.DataFrame'>\n",
      "Int64Index: 88883 entries, 1 to 88863\n",
      "Data columns (total 84 columns):\n",
      " #   Column                  Non-Null Count  Dtype  \n",
      "---  ------                  --------------  -----  \n",
      " 0   MainBranch              88331 non-null  object \n",
      " 1   Hobbyist                88883 non-null  object \n",
      " 2   OpenSourcer             88883 non-null  object \n",
      " 3   OpenSource              86842 non-null  object \n",
      " 4   Employment              87181 non-null  object \n",
      " 5   Country                 88751 non-null  object \n",
      " 6   Student                 87014 non-null  object \n",
      " 7   EdLevel                 86390 non-null  object \n",
      " 8   UndergradMajor          75614 non-null  object \n",
      " 9   EduOther                84260 non-null  object \n",
      " 10  OrgSize                 71791 non-null  object \n",
      " 11  DevType                 81335 non-null  object \n",
      " 12  YearsCode               87938 non-null  object \n",
      " 13  Age1stCode              87634 non-null  object \n",
      " 14  YearsCodePro            74331 non-null  object \n",
      " 15  CareerSat               72847 non-null  object \n",
      " 16  JobSat                  70988 non-null  object \n",
      " 17  MgrIdiot                61159 non-null  object \n",
      " 18  MgrMoney                61157 non-null  object \n",
      " 19  MgrWant                 61232 non-null  object \n",
      " 20  JobSeek                 80555 non-null  object \n",
      " 21  LastHireDate            79854 non-null  object \n",
      " 22  LastInt                 67155 non-null  object \n",
      " 23  FizzBuzz                71344 non-null  object \n",
      " 24  JobFactors              79371 non-null  object \n",
      " 25  ResumeUpdate            77877 non-null  object \n",
      " 26  CurrencySymbol          71392 non-null  object \n",
      " 27  CurrencyDesc            71392 non-null  object \n",
      " 28  CompTotal               55945 non-null  float64\n",
      " 29  CompFreq                63268 non-null  object \n",
      " 30  ConvertedComp           55823 non-null  float64\n",
      " 31  WorkWeekHrs             64503 non-null  float64\n",
      " 32  WorkPlan                68914 non-null  object \n",
      " 33  WorkChallenge           68141 non-null  object \n",
      " 34  WorkRemote              70284 non-null  object \n",
      " 35  WorkLoc                 70055 non-null  object \n",
      " 36  ImpSyn                  71779 non-null  object \n",
      " 37  CodeRev                 70390 non-null  object \n",
      " 38  CodeRevHrs              49790 non-null  float64\n",
      " 39  UnitTests               62668 non-null  object \n",
      " 40  PurchaseHow             61108 non-null  object \n",
      " 41  PurchaseWhat            62029 non-null  object \n",
      " 42  LanguageWorkedWith      87569 non-null  object \n",
      " 43  LanguageDesireNextYear  84088 non-null  object \n",
      " 44  DatabaseWorkedWith      76026 non-null  object \n",
      " 45  DatabaseDesireNextYear  69147 non-null  object \n",
      " 46  PlatformWorkedWith      80714 non-null  object \n",
      " 47  PlatformDesireNextYear  77443 non-null  object \n",
      " 48  WebFrameWorkedWith      65022 non-null  object \n",
      " 49  WebFrameDesireNextYear  62944 non-null  object \n",
      " 50  MiscTechWorkedWith      59586 non-null  object \n",
      " 51  MiscTechDesireNextYear  64511 non-null  object \n",
      " 52  DevEnviron              87317 non-null  object \n",
      " 53  OpSys                   87851 non-null  object \n",
      " 54  Containers              85366 non-null  object \n",
      " 55  BlockchainOrg           48175 non-null  object \n",
      " 56  BlockchainIs            60165 non-null  object \n",
      " 57  BetterLife              86269 non-null  object \n",
      " 58  ITperson                87141 non-null  object \n",
      " 59  OffOn                   86663 non-null  object \n",
      " 60  SocialMedia             84437 non-null  object \n",
      " 61  Extraversion            87305 non-null  object \n",
      " 62  ScreenName              80486 non-null  object \n",
      " 63  SOVisit1st              83877 non-null  object \n",
      " 64  SOVisitFreq             88263 non-null  object \n",
      " 65  SOVisitTo               88086 non-null  object \n",
      " 66  SOFindAnswer            87816 non-null  object \n",
      " 67  SOTimeSaved             86344 non-null  object \n",
      " 68  SOHowMuchTime           68378 non-null  object \n",
      " 69  SOAccount               87828 non-null  object \n",
      " 70  SOPartFreq              74692 non-null  object \n",
      " 71  SOJobs                  88066 non-null  object \n",
      " 72  EntTeams                87841 non-null  object \n",
      " 73  SOComm                  88131 non-null  object \n",
      " 74  WelcomeChange           85855 non-null  object \n",
      " 75  SONewContent            69560 non-null  object \n",
      " 76  Age                     79210 non-null  float64\n",
      " 77  Gender                  85406 non-null  object \n",
      " 78  Trans                   83607 non-null  object \n",
      " 79  Sexuality               76147 non-null  object \n",
      " 80  Ethnicity               76668 non-null  object \n",
      " 81  Dependents              83059 non-null  object \n",
      " 82  SurveyLength            86984 non-null  object \n",
      " 83  SurveyEase              87081 non-null  object \n",
      "dtypes: float64(5), object(79)\n",
      "memory usage: 30.9+ MB\n"
     ]
    }
   ],
   "source": [
    "df.info()"
   ]
  },
  {
   "cell_type": "code",
   "execution_count": 33,
   "metadata": {},
   "outputs": [
    {
     "data": {
      "text/plain": [
       "Index(['MainBranch', 'Hobbyist', 'OpenSourcer', 'OpenSource', 'Employment',\n",
       "       'Country', 'Student', 'EdLevel', 'UndergradMajor', 'EduOther',\n",
       "       'OrgSize', 'DevType', 'YearsCode', 'Age1stCode', 'YearsCodePro',\n",
       "       'CareerSat', 'JobSat', 'MgrIdiot', 'MgrMoney', 'MgrWant', 'JobSeek',\n",
       "       'LastHireDate', 'LastInt', 'FizzBuzz', 'JobFactors', 'ResumeUpdate',\n",
       "       'CurrencySymbol', 'CurrencyDesc', 'CompTotal', 'CompFreq',\n",
       "       'ConvertedComp', 'WorkWeekHrs', 'WorkPlan', 'WorkChallenge',\n",
       "       'WorkRemote', 'WorkLoc', 'ImpSyn', 'CodeRev', 'CodeRevHrs', 'UnitTests',\n",
       "       'PurchaseHow', 'PurchaseWhat', 'LanguageWorkedWith',\n",
       "       'LanguageDesireNextYear', 'DatabaseWorkedWith',\n",
       "       'DatabaseDesireNextYear', 'PlatformWorkedWith',\n",
       "       'PlatformDesireNextYear', 'WebFrameWorkedWith',\n",
       "       'WebFrameDesireNextYear', 'MiscTechWorkedWith',\n",
       "       'MiscTechDesireNextYear', 'DevEnviron', 'OpSys', 'Containers',\n",
       "       'BlockchainOrg', 'BlockchainIs', 'BetterLife', 'ITperson', 'OffOn',\n",
       "       'SocialMedia', 'Extraversion', 'ScreenName', 'SOVisit1st',\n",
       "       'SOVisitFreq', 'SOVisitTo', 'SOFindAnswer', 'SOTimeSaved',\n",
       "       'SOHowMuchTime', 'SOAccount', 'SOPartFreq', 'SOJobs', 'EntTeams',\n",
       "       'SOComm', 'WelcomeChange', 'SONewContent', 'Age', 'Gender', 'Trans',\n",
       "       'Sexuality', 'Ethnicity', 'Dependents', 'SurveyLength', 'SurveyEase'],\n",
       "      dtype='object')"
      ]
     },
     "execution_count": 33,
     "metadata": {},
     "output_type": "execute_result"
    }
   ],
   "source": [
    "df.columns"
   ]
  },
  {
   "cell_type": "code",
   "execution_count": 37,
   "metadata": {},
   "outputs": [
    {
     "data": {
      "text/plain": [
       "Yes    71257\n",
       "No     17626\n",
       "Name: Hobbyist, dtype: int64"
      ]
     },
     "execution_count": 37,
     "metadata": {},
     "output_type": "execute_result"
    }
   ],
   "source": [
    "df['Hobbyist'].value_counts()"
   ]
  },
  {
   "cell_type": "code",
   "execution_count": 39,
   "metadata": {},
   "outputs": [
    {
     "data": {
      "text/plain": [
       "'How confident are you that your manager knows what they’re doing?'"
      ]
     },
     "execution_count": 39,
     "metadata": {},
     "output_type": "execute_result"
    }
   ],
   "source": [
    "schema_df.loc['MgrIdiot', 'QuestionText']"
   ]
  },
  {
   "cell_type": "code",
   "execution_count": 44,
   "metadata": {},
   "outputs": [],
   "source": [
    "countries = ['United States', 'India']\n",
    "high_salary = df['Country'].isin(countries)"
   ]
  },
  {
   "cell_type": "code",
   "execution_count": 45,
   "metadata": {},
   "outputs": [
    {
     "data": {
      "text/plain": [
       "Respondent\n",
       "4        United States\n",
       "8                India\n",
       "10               India\n",
       "13       United States\n",
       "15               India\n",
       "             ...      \n",
       "83862            India\n",
       "84299            India\n",
       "85642    United States\n",
       "86012            India\n",
       "88282    United States\n",
       "Name: Country, Length: 30010, dtype: object"
      ]
     },
     "execution_count": 45,
     "metadata": {},
     "output_type": "execute_result"
    }
   ],
   "source": [
    "df.loc[high_salary, 'Country']"
   ]
  },
  {
   "cell_type": "code",
   "execution_count": 47,
   "metadata": {},
   "outputs": [
    {
     "data": {
      "text/plain": [
       "Respondent\n",
       "1                          HTML/CSS;Java;JavaScript;Python\n",
       "2                                      C++;HTML/CSS;Python\n",
       "4                                      C;C++;C#;Python;SQL\n",
       "5              C++;HTML/CSS;Java;JavaScript;Python;SQL;VBA\n",
       "8        Bash/Shell/PowerShell;C;C++;HTML/CSS;Java;Java...\n",
       "                               ...                        \n",
       "84539    Bash/Shell/PowerShell;C;C++;HTML/CSS;Java;Java...\n",
       "85738      Bash/Shell/PowerShell;C++;Python;Ruby;Other(s):\n",
       "86566      Bash/Shell/PowerShell;HTML/CSS;Python;Other(s):\n",
       "87739             C;C++;HTML/CSS;JavaScript;PHP;Python;SQL\n",
       "88212                           HTML/CSS;JavaScript;Python\n",
       "Name: LanguageWorkedWith, Length: 36443, dtype: object"
      ]
     },
     "execution_count": 47,
     "metadata": {},
     "output_type": "execute_result"
    }
   ],
   "source": [
    "filt = df['LanguageWorkedWith'].str.contains('Python', na=False)\n",
    "df.loc[filt, 'LanguageWorkedWith']"
   ]
  },
  {
   "cell_type": "code",
   "execution_count": null,
   "metadata": {},
   "outputs": [],
   "source": []
  }
 ],
 "metadata": {
  "kernelspec": {
   "display_name": "Python 3",
   "language": "python",
   "name": "python3"
  },
  "language_info": {
   "codemirror_mode": {
    "name": "ipython",
    "version": 3
   },
   "file_extension": ".py",
   "mimetype": "text/x-python",
   "name": "python",
   "nbconvert_exporter": "python",
   "pygments_lexer": "ipython3",
   "version": "3.8.2"
  }
 },
 "nbformat": 4,
 "nbformat_minor": 4
}
